{
 "cells": [
  {
   "cell_type": "markdown",
   "metadata": {},
   "source": [
    "This notebook performs various tasks. </br>\n",
    "It selects a model to tag questions in the corpus. It also selects a model that assign a Data Science score to messages in the corpus. \n",
    "In both cases the best model is a simple logistic regression model trained on Tf-Idf features.\n",
    "The models are selected to maximize AUC scores, and after model selection the threshold (in the cae of Question tagger) is chosen to maximize F1-score.\n",
    "\n",
    "The question are roughly 7% of the whole dataset. While the results are not reported here, methods to take care of class imbalance have been tried (like SMOTE) but didn't provide any significant improvement.\n",
    "\n",
    "Threads are associated to tagged questions by includid all messages in a given time interval. This time interval corresponds to 50th percentile of the thread length distribution over the training set. </br>\n",
    "\n",
    "The training set to perform these classification tasks was obtained by handlabelling 6% (roughly 6000 messages) in the original corpus"
   ]
  },
  {
   "cell_type": "markdown",
   "metadata": {},
   "source": [
    "# Content\n",
    "\n",
    "- Function definitions\n",
    "- Read data\n",
    "- Q&A tagging\n",
    "- Test for Q&A tagging\n",
    "- Data Science message classifier\n",
    "- Test for DS classifier\n",
    "- Thread length analysis"
   ]
  },
  {
   "cell_type": "markdown",
   "metadata": {},
   "source": [
    "# Warning!\n",
    "<b> Not all the files necessary to run this notebook are included in this repository!</b>"
   ]
  },
  {
   "cell_type": "code",
   "execution_count": null,
   "metadata": {},
   "outputs": [],
   "source": [
    "#%matplotlib inline\n",
    "\n",
    "import pylab\n",
    "\n",
    "import xml.etree.ElementTree as ET\n",
    "import json\n",
    "import pandas as pd\n",
    "import re\n",
    "import numpy as np\n",
    "import itertools\n",
    "\n",
    "# visualization\n",
    "import matplotlib\n",
    "from matplotlib import rc\n",
    "import matplotlib.pyplot as plt\n",
    "import seaborn as sns\n",
    "\n",
    "\n",
    "\n",
    "#  machine learning\n",
    "from sklearn.linear_model import LogisticRegression\n",
    "from sklearn import linear_model\n",
    "from sklearn.svm import SVC, LinearSVC\n",
    "from sklearn.ensemble import RandomForestClassifier\n",
    "from sklearn.neighbors import KNeighborsClassifier\n",
    "from sklearn.naive_bayes import GaussianNB\n",
    "from sklearn.linear_model import Perceptron\n",
    "from sklearn.linear_model import Lasso\n",
    "from sklearn.linear_model import SGDClassifier\n",
    "from sklearn.tree import DecisionTreeClassifier\n",
    "from sklearn.ensemble import AdaBoostClassifier\n",
    "from sklearn.ensemble import VotingClassifier\n",
    "from sklearn.neural_network import MLPClassifier\n",
    "from sklearn import preprocessing\n",
    "from sklearn.model_selection import train_test_split\n",
    "from sklearn.model_selection import cross_val_score\n",
    "from sklearn import datasets, linear_model\n",
    "from sklearn import ensemble, tree, linear_model\n",
    "from sklearn.model_selection import train_test_split, cross_val_score\n",
    "from sklearn.metrics import r2_score, mean_squared_error\n",
    "from sklearn.utils import shuffle\n",
    "from sklearn.model_selection import train_test_split\n",
    "from sklearn.svm import SVC, LinearSVC\n",
    "from sklearn.naive_bayes import MultinomialNB\n",
    "from sklearn.metrics import confusion_matrix\n",
    "from sklearn.metrics import recall_score\n",
    "from sklearn.metrics import precision_score, f1_score, accuracy_score\n",
    "from sklearn.feature_extraction.text import TfidfVectorizer\n",
    "from sklearn import svm\n",
    "from sklearn.model_selection import StratifiedKFold\n",
    "from sklearn.pipeline import make_pipeline\n",
    "\n",
    "#os stuff\n",
    "import os\n",
    "from os import listdir\n",
    "from os.path import isfile, join\n",
    "\n",
    "from scipy import interp\n",
    "\n",
    "\n",
    "#NLP\n",
    "import string\n",
    "import gensim\n",
    "from string import punctuation\n",
    "from nltk.corpus import stopwords\n",
    "from nltk import word_tokenize\n",
    "from gensim import corpora, models, similarities \n",
    "from gensim.models import CoherenceModel\n",
    "import pyLDAvis.gensim\n",
    "from gensim.parsing.preprocessing import preprocess_string,strip_tags,strip_punctuation, remove_stopwords,strip_numeric\n",
    "import nltk\n",
    "pyLDAvis.enable_notebook()\n",
    "\n",
    "\n",
    "plt.style.use('seaborn-white')\n",
    "matplotlib.rcParams['font.size'] = 14\n",
    "matplotlib.rcParams['legend.fontsize'] = 'medium'\n",
    "matplotlib.rcParams['figure.titlesize'] = 'small'\n",
    "\n",
    "\n",
    "pd.set_option('display.max_colwidth', -1)\n",
    "\n",
    "pylab.ion()"
   ]
  },
  {
   "cell_type": "markdown",
   "metadata": {},
   "source": [
    "# Functions"
   ]
  },
  {
   "cell_type": "code",
   "execution_count": 298,
   "metadata": {},
   "outputs": [],
   "source": [
    "def re_link(s):\n",
    "    return re.sub(r'<http\\S+>', ' <link> ', s)\n",
    "\n",
    "def re_emoji(s):\n",
    "    return re.sub(r':\\S+:', ' <emoji> ', s)\n",
    "\n",
    "def re_user(s):\n",
    "    return re.sub(r'<@\\S+>', ' <user> ', s)\n",
    "\n",
    "# stop words\n",
    "from nltk.corpus import stopwords\n",
    "stopwords = stopwords.words('english') + [\"'\"+ x for x in stopwords.words('english')] + [\"n't\"]\n",
    "\n",
    "\n",
    "def tokenize(text):\n",
    "    words = word_tokenize(text)\n",
    "    return [w.lower() for w in words]\n",
    "\n",
    "#punctuation, removed question mark\n",
    "noQ_punctuation = '!\"#$%&\\'()*+,-./:;<=>@[\\\\]^_`{|}~'\n",
    "\n",
    "def parser(text_in): \n",
    "    \n",
    "    text = unicode( re_link(re_emoji(re_user(text_in))) , \"utf-8\")\n",
    "    \n",
    "    # tokenize\n",
    "    tokens = [word.lower() for sent in nltk.sent_tokenize(text) for word in nltk.word_tokenize(sent)]\n",
    "\n",
    "    # filter punctuation\n",
    "    tokens = [x for x in tokens if not x in noQ_punctuation]\n",
    "    tokens = [x for x in tokens if not x in [\"''\",\"``\"]]\n",
    "\n",
    "    return ' '.join(tokens)\n",
    "\n",
    "\n",
    "\n",
    "def parser(text): #,stem): \n",
    "    flag = 0\n",
    "    tokens = tokenize(unicode(text,'utf-8'))\n",
    "    CUSTOM_FILTERS = [ lambda x: x.lower(), strip_tags]\n",
    "    tokens = preprocess_string(' '.join(tokens), CUSTOM_FILTERS)\n",
    "    if '?' in tokens:\n",
    "        flag = 1\n",
    "    CUSTOM_FILTERS = [ lambda x: x.lower(), strip_tags, strip_punctuation]\n",
    "    tokens = preprocess_string(' '.join(tokens), CUSTOM_FILTERS)\n",
    "    if flag==1:\n",
    "        tokens.append('?')\n",
    "    tokens = re.sub(r'\\b\\d+(?:\\.\\d+)?\\s+', '', ' '.join(tokens)).split()\n",
    "   \n",
    "    return ' '.join(tokens)"
   ]
  },
  {
   "cell_type": "code",
   "execution_count": 367,
   "metadata": {},
   "outputs": [],
   "source": [
    "#return list of accuracies, recalls, precisions and f1-scores given a list of thresholds, probability lists and true labels (labels have to be 0 ad 1)\n",
    "def scores(prob_list, thresholds, true_labels): \n",
    "    accu_list=[]\n",
    "    reca_list=[]\n",
    "    prec_list=[]\n",
    "    f1_list=[]\n",
    "    p1 = prob_list[:,1]\n",
    "    for thr in thresholds:\n",
    "        preds = [1 if _>=thr else 0 for _ in p1]\n",
    "        accu_list.append(accuracy_score(true_labels, preds))\n",
    "        reca_list.append(recall_score(true_labels, preds))\n",
    "        prec_list.append(precision_score(true_labels, preds))\n",
    "        f1_list.append(f1_score(true_labels, preds))\n",
    "    return accu_list, reca_list, prec_list, f1_list\n",
    "\n",
    "#return cross validation averages of accuracies, recalls, precisions, f1-scores (as function of threshold), roc curve and \n",
    "#auc scores given features (X), labels (y), model, number of cv folds and binning for the threshold and false pos rate. Also return standard deviation \n",
    "#for each score on cross validation ensemble\n",
    "def cv_scores_QA(X, y, tfidfmodel, model, folds, bins):\n",
    "    cv = StratifiedKFold(n_splits=folds)\n",
    "    tprs = []\n",
    "    aucs = []\n",
    "    accus = []\n",
    "    recas = []\n",
    "    precs = []\n",
    "    f1s = []\n",
    "    X = np.array([text for text in X.apply(parser).values])\n",
    "    for train, test in cv.split(X, y):\n",
    "        pipe=make_pipeline(tfidfmodel, model)\n",
    "        probas_ = pipe.fit(X[train], y.values[train]).predict_proba(X[test])\n",
    "        fpr, tpr, thres = roc_curve(y.values[test], probas_[:, 1])\n",
    "        thres = list(reversed(thres))\n",
    "        accu, reca, prec, f1 = scores(probas_, thres,  y.values[test])\n",
    "        #true pos rate vs false pos rate (ROC)\n",
    "        tprs.append(interp(bins, fpr, tpr))\n",
    "        tprs[-1][0] = 0.0\n",
    "        #AUC\n",
    "        roc_auc = auc(fpr, tpr)\n",
    "        aucs.append(roc_auc)\n",
    "        #accuracy\n",
    "        accus.append(interp(bins, thres, accu))\n",
    "        accus[-1][0] = 0.0\n",
    "        #recall\n",
    "        recas.append(interp(bins, thres, reca))\n",
    "        recas[-1][0] = 1.0\n",
    "        #precision\n",
    "        precs.append(interp(bins, thres, prec))\n",
    "        precs[-1][0] = 0.0\n",
    "        #F1\n",
    "        f1s.append(interp(bins, thres, f1))\n",
    "        f1s[-1][0] = 0.0\n",
    "    #Now calculate averages and std over cv folds\n",
    "    #ROC\n",
    "    mean_tpr = np.mean(tprs, axis=0)\n",
    "    mean_tpr[-1] = 1.0\n",
    "    std_tpr = np.std(tprs, axis=0)\n",
    "    #AUC\n",
    "    mean_auc = auc(bins, mean_tpr)\n",
    "    std_auc = np.std(aucs)\n",
    "    #accuracy\n",
    "    mean_accu = np.mean(accus, axis=0)\n",
    "    mean_accu[-1] = 0.0\n",
    "    std_accu = np.std(accus, axis=0)\n",
    "    #recall\n",
    "    mean_reca = np.mean(recas, axis=0)\n",
    "    mean_reca[-1] = 0.0\n",
    "    std_reca = np.std(recas, axis=0)\n",
    "    #precision\n",
    "    mean_prec = np.mean(precs, axis=0)\n",
    "    mean_prec[-1] = 1.0\n",
    "    std_prec = np.std(precs, axis=0)\n",
    "    #F1\n",
    "    mean_f1 = np.mean(f1s, axis=0)\n",
    "    mean_f1[-1] = 0.0\n",
    "    std_f1 = np.std(f1s, axis=0)\n",
    "    return mean_tpr, std_tpr, mean_auc, std_auc, mean_accu, std_accu, mean_reca, std_reca, mean_prec, std_prec, mean_f1, std_f1"
   ]
  },
  {
   "cell_type": "markdown",
   "metadata": {},
   "source": [
    "# Read data"
   ]
  },
  {
   "cell_type": "code",
   "execution_count": 2,
   "metadata": {},
   "outputs": [],
   "source": [
    "df_labeled = pd.read_csv('noted_insightslack.csv',sep='\\t')\n",
    "df_labeled.drop('Unnamed: 0', axis=1, inplace=True)"
   ]
  },
  {
   "cell_type": "code",
   "execution_count": 3,
   "metadata": {},
   "outputs": [
    {
     "data": {
      "text/plain": [
       "(5898, 6)"
      ]
     },
     "execution_count": 3,
     "metadata": {},
     "output_type": "execute_result"
    }
   ],
   "source": [
    "df_labeled.shape"
   ]
  },
  {
   "cell_type": "code",
   "execution_count": 4,
   "metadata": {},
   "outputs": [],
   "source": [
    "import pickle\n",
    "with open(\"listQA.pickle\", \"rb\") as fp:   # Unpickling\n",
    "    listaQA = pickle.load(fp)\n",
    "with open(\"listQ.pickle\", \"rb\") as fp:   # Unpickling\n",
    "    listaQ = pickle.load(fp)\n",
    "with open(\"listDS.pickle\", \"rb\") as fp:   # Unpickling\n",
    "    listaDS = pickle.load(fp)"
   ]
  },
  {
   "cell_type": "code",
   "execution_count": 5,
   "metadata": {},
   "outputs": [
    {
     "name": "stdout",
     "output_type": "stream",
     "text": [
      "number Q&A threads:  314\n",
      "number unanswered Q:  98\n",
      "number generic DS threads:  433\n"
     ]
    }
   ],
   "source": [
    "print 'number Q&A threads: ', len(listaQA)\n",
    "print 'number unanswered Q: ', len(listaQ)\n",
    "print 'number generic DS threads: ', len(listaDS)"
   ]
  },
  {
   "cell_type": "code",
   "execution_count": 6,
   "metadata": {},
   "outputs": [],
   "source": [
    "Q_starts = [_[0] for _ in listaQA]+[_[0] for _ in listaQ]\n",
    "Qs = listaQA + listaQ"
   ]
  },
  {
   "cell_type": "code",
   "execution_count": 7,
   "metadata": {},
   "outputs": [
    {
     "data": {
      "text/plain": [
       "412"
      ]
     },
     "execution_count": 7,
     "metadata": {},
     "output_type": "execute_result"
    }
   ],
   "source": [
    "len(Q_starts)"
   ]
  },
  {
   "cell_type": "code",
   "execution_count": 8,
   "metadata": {},
   "outputs": [
    {
     "data": {
      "text/html": [
       "<div>\n",
       "<style>\n",
       "    .dataframe thead tr:only-child th {\n",
       "        text-align: right;\n",
       "    }\n",
       "\n",
       "    .dataframe thead th {\n",
       "        text-align: left;\n",
       "    }\n",
       "\n",
       "    .dataframe tbody tr th {\n",
       "        vertical-align: top;\n",
       "    }\n",
       "</style>\n",
       "<table border=\"1\" class=\"dataframe\">\n",
       "  <thead>\n",
       "    <tr style=\"text-align: right;\">\n",
       "      <th></th>\n",
       "      <th>ID</th>\n",
       "      <th>ts</th>\n",
       "      <th>user</th>\n",
       "      <th>text</th>\n",
       "      <th>tag</th>\n",
       "      <th>channel</th>\n",
       "    </tr>\n",
       "  </thead>\n",
       "  <tbody>\n",
       "    <tr>\n",
       "      <th>0</th>\n",
       "      <td>45094</td>\n",
       "      <td>1.420829e+09</td>\n",
       "      <td>U03AY7TUK</td>\n",
       "      <td>&lt;@U03AY7TUK&gt; has joined the channel</td>\n",
       "      <td>bs</td>\n",
       "      <td>general</td>\n",
       "    </tr>\n",
       "    <tr>\n",
       "      <th>1</th>\n",
       "      <td>45095</td>\n",
       "      <td>1.420829e+09</td>\n",
       "      <td>U03AZQ4LE</td>\n",
       "      <td>&lt;@U03AZQ4LE&gt; has joined the channel</td>\n",
       "      <td>bs</td>\n",
       "      <td>general</td>\n",
       "    </tr>\n",
       "    <tr>\n",
       "      <th>2</th>\n",
       "      <td>45096</td>\n",
       "      <td>1.420829e+09</td>\n",
       "      <td>U03AY3FTZ</td>\n",
       "      <td>Welcome fellow Fellows!</td>\n",
       "      <td>bs</td>\n",
       "      <td>general</td>\n",
       "    </tr>\n",
       "    <tr>\n",
       "      <th>3</th>\n",
       "      <td>45097</td>\n",
       "      <td>1.420830e+09</td>\n",
       "      <td>U03AZQBLN</td>\n",
       "      <td>&lt;@U03AZQBLN&gt; has joined the channel</td>\n",
       "      <td>bs</td>\n",
       "      <td>general</td>\n",
       "    </tr>\n",
       "    <tr>\n",
       "      <th>4</th>\n",
       "      <td>45098</td>\n",
       "      <td>1.420830e+09</td>\n",
       "      <td>U03AY3FTZ</td>\n",
       "      <td>Can you invite others? I've invited everyone from our class, but it'd be great to have all Fellows on this same slack, don't you think?</td>\n",
       "      <td>bs</td>\n",
       "      <td>general</td>\n",
       "    </tr>\n",
       "  </tbody>\n",
       "</table>\n",
       "</div>"
      ],
      "text/plain": [
       "      ID            ts       user  \\\n",
       "0  45094  1.420829e+09  U03AY7TUK   \n",
       "1  45095  1.420829e+09  U03AZQ4LE   \n",
       "2  45096  1.420829e+09  U03AY3FTZ   \n",
       "3  45097  1.420830e+09  U03AZQBLN   \n",
       "4  45098  1.420830e+09  U03AY3FTZ   \n",
       "\n",
       "                                                                                                                                      text  \\\n",
       "0  <@U03AY7TUK> has joined the channel                                                                                                       \n",
       "1  <@U03AZQ4LE> has joined the channel                                                                                                       \n",
       "2  Welcome fellow Fellows!                                                                                                                   \n",
       "3  <@U03AZQBLN> has joined the channel                                                                                                       \n",
       "4  Can you invite others? I've invited everyone from our class, but it'd be great to have all Fellows on this same slack, don't you think?   \n",
       "\n",
       "  tag  channel  \n",
       "0  bs  general  \n",
       "1  bs  general  \n",
       "2  bs  general  \n",
       "3  bs  general  \n",
       "4  bs  general  "
      ]
     },
     "execution_count": 8,
     "metadata": {},
     "output_type": "execute_result"
    }
   ],
   "source": [
    "df_labeled.head()"
   ]
  },
  {
   "cell_type": "code",
   "execution_count": 9,
   "metadata": {},
   "outputs": [
    {
     "data": {
      "text/plain": [
       "(300, 6)"
      ]
     },
     "execution_count": 9,
     "metadata": {},
     "output_type": "execute_result"
    }
   ],
   "source": [
    "df_labeled[(df_labeled.ID.isin(Q_starts))&(df_labeled['channel']=='general')].shape"
   ]
  },
  {
   "cell_type": "markdown",
   "metadata": {},
   "source": [
    "# Q&A tagging"
   ]
  },
  {
   "cell_type": "markdown",
   "metadata": {},
   "source": [
    "<p>Add labels 'Q'/'NQ' to train dataframe, split train and test</p>\n",
    "<p>1) Take train to be 'general' and test the rest</p>\n",
    "2) Merge, shuffle and take 20% for test"
   ]
  },
  {
   "cell_type": "code",
   "execution_count": 368,
   "metadata": {},
   "outputs": [],
   "source": [
    "df_labeled['Q_NQ_label'] = df_labeled['ID'].apply(lambda x: 1 if x in Q_starts else 0)"
   ]
  },
  {
   "cell_type": "code",
   "execution_count": 369,
   "metadata": {},
   "outputs": [],
   "source": [
    "X_cv = df_labeled[df_labeled['channel']=='general']['text']\n",
    "y_cv = df_labeled[df_labeled['channel']=='general']['Q_NQ_label']\n",
    "X_test = df_labeled[df_labeled['channel']=='ds_sv_2016a']['text']\n",
    "y_test = df_labeled[df_labeled['channel']=='ds_sv_2016a']['Q_NQ_label']"
   ]
  },
  {
   "cell_type": "code",
   "execution_count": 370,
   "metadata": {},
   "outputs": [
    {
     "data": {
      "text/plain": [
       "(5057, 8)"
      ]
     },
     "execution_count": 370,
     "metadata": {},
     "output_type": "execute_result"
    }
   ],
   "source": [
    "df_labeled[df_labeled['channel']=='general'].shape"
   ]
  },
  {
   "cell_type": "code",
   "execution_count": 372,
   "metadata": {},
   "outputs": [
    {
     "name": "stdout",
     "output_type": "stream",
     "text": [
      "cv length: 5057\n",
      "test length: 841\n",
      "ratio:  0.142590708715\n"
     ]
    }
   ],
   "source": [
    "print 'cv length:', len(X_cv)\n",
    "print 'test length:', len(X_test)\n",
    "print 'ratio: ', 1.0*len(X_test)/(len(X_cv)+len(X_test))"
   ]
  },
  {
   "cell_type": "markdown",
   "metadata": {},
   "source": [
    "Simplest way to tag questions: look for '?'"
   ]
  },
  {
   "cell_type": "code",
   "execution_count": 373,
   "metadata": {},
   "outputs": [
    {
     "name": "stderr",
     "output_type": "stream",
     "text": [
      "/anaconda/envs/dataweekends/lib/python2.7/site-packages/seaborn/matrix.py:143: DeprecationWarning: elementwise == comparison failed; this will raise an error in the future.\n",
      "  if xticklabels == []:\n",
      "/anaconda/envs/dataweekends/lib/python2.7/site-packages/seaborn/matrix.py:151: DeprecationWarning: elementwise == comparison failed; this will raise an error in the future.\n",
      "  if yticklabels == []:\n"
     ]
    },
    {
     "data": {
      "image/png": "[encoded data removed]",
      "text/plain": [
       "<matplotlib.figure.Figure at 0x11713fa50>"
      ]
     },
     "metadata": {},
     "output_type": "display_data"
    }
   ],
   "source": [
    "def has_QM(text):\n",
    "    if '?' in tokenize(text):\n",
    "        return 1\n",
    "    else:\n",
    "        return 0\n",
    "\n",
    "test_pred = [has_QM(_) for _ in X_test.apply(parser).values]\n",
    "\n",
    "cats = [1,0]\n",
    "cm_QM = confusion_matrix(y_test.values,  test_pred, labels = cats)\n",
    "df_QM = pd.DataFrame(cm_QM, index = [_ for _ in cats],\n",
    "                  columns = [_ for _ in cats])\n",
    "plt.figure(figsize = (5,4))\n",
    "heat_plot=sns.heatmap(df_QM, annot=True)\n",
    "#plt.savefig(\"./figs/confusion_QA_QM.pdf\", bbox_inches='tight')\n",
    "plt.show()"
   ]
  },
  {
   "cell_type": "code",
   "execution_count": 374,
   "metadata": {},
   "outputs": [
    {
     "name": "stdout",
     "output_type": "stream",
     "text": [
      "True pos:  74\n",
      "True neg:  689\n",
      "False pos:  68\n",
      "False neg:  10\n"
     ]
    }
   ],
   "source": [
    "tp_QM = len([i for i in range(len(test_pred)) if (test_pred[i]==1)&(y_test.values[i]==1)])\n",
    "tn_QM = len([i for i in range(len(test_pred)) if (test_pred[i]==0)&(y_test.values[i]==0)])\n",
    "fp_QM = len([i for i in range(len(test_pred)) if (test_pred[i]==1)&(y_test.values[i]==0)])\n",
    "fn_QM = len([i for i in range(len(test_pred)) if (test_pred[i]==0)&(y_test.values[i]==1)])\n",
    "print 'True pos: ', tp_QM\n",
    "print 'True neg: ', tn_QM\n",
    "print 'False pos: ', fp_QM\n",
    "print 'False neg: ', fn_QM"
   ]
  },
  {
   "cell_type": "code",
   "execution_count": 375,
   "metadata": {},
   "outputs": [
    {
     "name": "stdout",
     "output_type": "stream",
     "text": [
      "False pos rate:  0.0898282694848\n",
      "True pos rate:  0.880952380952\n"
     ]
    }
   ],
   "source": [
    "fpr_QM = fp_QM*1.0/(fp_QM+tn_QM)\n",
    "tpr_QM = tp_QM*1.0/(tp_QM+fn_QM)\n",
    "print 'False pos rate: ', fpr_QM\n",
    "print 'True pos rate: ', tpr_QM"
   ]
  },
  {
   "cell_type": "markdown",
   "metadata": {},
   "source": [
    "# Using Tf-Idf features to train a classifier"
   ]
  },
  {
   "cell_type": "code",
   "execution_count": 376,
   "metadata": {},
   "outputs": [
    {
     "name": "stdout",
     "output_type": "stream",
     "text": [
      "Size of vocabulary for titles: 7538 words.\n"
     ]
    }
   ],
   "source": [
    "# Build vocabulary\n",
    "tokenized_texts = X_cv.apply(parser).apply(tokenize).values\n",
    "allwords = np.concatenate(tokenized_texts)\n",
    "vocabulary = set(allwords)\n",
    "print \"Size of vocabulary for titles:\", len(vocabulary), 'words.'"
   ]
  },
  {
   "cell_type": "code",
   "execution_count": 377,
   "metadata": {},
   "outputs": [
    {
     "data": {
      "text/plain": [
       "2108"
      ]
     },
     "execution_count": 377,
     "metadata": {},
     "output_type": "execute_result"
    }
   ],
   "source": [
    "from collections import Counter\n",
    "word_count = Counter(allwords)\n",
    "word_count_dict = dict(word_count)\n",
    "#rare words (those that appear less than 4 times)\n",
    "rarewords = [ k for k, v in word_count_dict.items() if v < 4 ]\n",
    "vocabulary_norare = set([_ for _ in vocabulary if _ not in rarewords])\n",
    "len(vocabulary_norare)"
   ]
  },
  {
   "cell_type": "code",
   "execution_count": 378,
   "metadata": {},
   "outputs": [
    {
     "data": {
      "image/png": "[encoded data removed]",
      "text/plain": [
       "<matplotlib.figure.Figure at 0x11d131410>"
      ]
     },
     "metadata": {},
     "output_type": "display_data"
    }
   ],
   "source": [
    "binning = np.linspace(0, 1, 100)\n",
    "clf_labels = ['RFC', 'linSVC',  'LR_l2','LR_l1']\n",
    "clf_colors =  ['b','g','r', 'c']\n",
    "models = [RandomForestClassifier(), svm.SVC(kernel='linear', probability=True), LogisticRegression(penalty = 'l2'),LogisticRegression(penalty = 'l1')]\n",
    "for i in range(len(models)):\n",
    "    roc, droc, auc_score, dauc_score, acc, dacc, rec, drec, pre, dpre, f1, df1= cv_scores_QA(X_cv, y_cv, \\\n",
    "                                                            TfidfVectorizer(tokenizer=tokenize, vocabulary=vocabulary_norare),models[i], 4, binning)\n",
    "    plt.plot(binning, roc, color=clf_colors[i],\n",
    "         label=r'%s (AUC = %0.4f $\\pm$ %0.4f)' % (clf_labels[i],auc_score, dauc_score),\n",
    "         lw=2, alpha=.8)\n",
    "    plt.fill_between(binning,  np.maximum(roc - droc, 0),  np.minimum(roc + droc, 1), color='grey', alpha=.2)\n",
    "#plt.xlim([-0.05, 1.05])\n",
    "#plt.ylim([-0.05, 1.05])\n",
    "plt.plot([fpr_QM], [tpr_QM], 'ko', label='Question marks')\n",
    "plt.xlim([-0.0, 1.0])\n",
    "plt.ylim([-0.0, 1.0])\n",
    "plt.xlabel('False Positive Rate')\n",
    "plt.ylabel('True Positive Rate')\n",
    "plt.title('ROC')\n",
    "plt.legend(loc=\"lower right\")\n",
    "plt.show()"
   ]
  },
  {
   "cell_type": "code",
   "execution_count": 380,
   "metadata": {},
   "outputs": [
    {
     "data": {
      "image/png": "[encoded data removed]",
      "text/plain": [
       "<matplotlib.figure.Figure at 0x11cfcfe10>"
      ]
     },
     "metadata": {},
     "output_type": "display_data"
    }
   ],
   "source": [
    "roc, droc, auc_score, dauc_score, acc, dacc, rec, drec, pre, dpre, f1, df1= cv_scores_QA(X_cv, y_cv, \\\n",
    "                                         TfidfVectorizer(tokenizer=tokenize, vocabulary=vocabulary_norare), LogisticRegression(penalty = 'l2', C=1.), 4, binning)\n",
    "plt.plot(binning, f1, color='r',\n",
    "         label=r'LR_l2 ' ,\n",
    "         lw=2, alpha=.8)\n",
    "plt.fill_between(binning,  np.maximum(f1 - df1, 0),  np.minimum(f1 + df1, 1), color='grey', alpha=.2)\n",
    "plt.xlim([-0.05, 1.05])\n",
    "plt.ylim([-0.05, 1.05])\n",
    "plt.xlabel('Threshold')\n",
    "plt.ylabel('F1-score')\n",
    "plt.title('F1-score vs threshold')\n",
    "plt.legend(loc=\"upper right\")\n",
    "plt.show()"
   ]
  },
  {
   "cell_type": "code",
   "execution_count": 381,
   "metadata": {},
   "outputs": [
    {
     "name": "stdout",
     "output_type": "stream",
     "text": [
      "Final threshold:  0.15151515151515152\n",
      "Max:  0.6392410344226749\n"
     ]
    }
   ],
   "source": [
    "from operator import itemgetter\n",
    "#Get the threshold with the maximal F1 in the cv set\n",
    "final_threshold = max(zip(binning,f1),key=itemgetter(1))[0]\n",
    "print 'Final threshold: ', final_threshold\n",
    "print 'Max: ', max(f1)"
   ]
  },
  {
   "cell_type": "markdown",
   "metadata": {},
   "source": [
    "# Test"
   ]
  },
  {
   "cell_type": "code",
   "execution_count": 340,
   "metadata": {},
   "outputs": [],
   "source": [
    "final_threshold = 0.2\n",
    "final_model = LogisticRegression(penalty = 'l2',C=1.)\n",
    "corpus_cv = np.array([text for text in X_cv.apply(parser).values])\n",
    "corpus_test = np.array([text for text in X_test.apply(parser).values])\n",
    "tfidf_model = TfidfVectorizer(tokenizer=tokenize, vocabulary=vocabulary_norare)\n",
    "tfidf_model.fit(corpus_cv)\n",
    "tfidf_X_cv = tfidf_model.transform(corpus_cv)\n",
    "tfidf_X_test = tfidf_model.transform(corpus_test)\n",
    "final_model.fit(tfidf_X_cv,y_cv.values)\n",
    "#\n",
    "prob_train = final_model.predict_proba(tfidf_X_cv)\n",
    "final_preds_train =  [1 if _>=final_threshold else 0 for _ in prob_train[:,1]]\n",
    "#\n",
    "prob_test = final_model.predict_proba(tfidf_X_test)\n",
    "final_preds_test =  [1 if _>=final_threshold else 0 for _ in prob_test[:,1]]"
   ]
  },
  {
   "cell_type": "code",
   "execution_count": 341,
   "metadata": {},
   "outputs": [
    {
     "name": "stdout",
     "output_type": "stream",
     "text": [
      "Accuracy train/test: 0.9723156021356536 / 0.9488703923900119\n",
      "Precision train/test: 0.7339181286549707 / 0.7530864197530864\n",
      "Recall train/test: 0.8366666666666667 / 0.7261904761904762\n",
      "F1 train/test: 0.7819314641744548 / 0.7393939393939394\n"
     ]
    }
   ],
   "source": [
    "print 'Accuracy train/test: %s / %s'  %(accuracy_score(y_cv.values, final_preds_train),accuracy_score(y_test.values, final_preds_test))\n",
    "print 'Precision train/test: %s / %s'  %(precision_score(y_cv.values, final_preds_train),precision_score(y_test.values, final_preds_test))\n",
    "print 'Recall train/test: %s / %s'  %(recall_score(y_cv.values, final_preds_train),recall_score(y_test.values, final_preds_test))\n",
    "print 'F1 train/test: %s / %s'  %(f1_score(y_cv.values, final_preds_train),f1_score(y_test.values, final_preds_test))"
   ]
  },
  {
   "cell_type": "code",
   "execution_count": 342,
   "metadata": {},
   "outputs": [
    {
     "name": "stderr",
     "output_type": "stream",
     "text": [
      "/anaconda/envs/dataweekends/lib/python2.7/site-packages/seaborn/matrix.py:143: DeprecationWarning: elementwise == comparison failed; this will raise an error in the future.\n",
      "  if xticklabels == []:\n",
      "/anaconda/envs/dataweekends/lib/python2.7/site-packages/seaborn/matrix.py:151: DeprecationWarning: elementwise == comparison failed; this will raise an error in the future.\n",
      "  if yticklabels == []:\n"
     ]
    },
    {
     "data": {
      "image/png": "[encoded data removed]",
      "text/plain": [
       "<matplotlib.figure.Figure at 0x1203d3d50>"
      ]
     },
     "metadata": {},
     "output_type": "display_data"
    }
   ],
   "source": [
    "#Confusion matrix. Rows are true labels, column predicted\n",
    "cats = [1,0]\n",
    "cm_QM = confusion_matrix(y_test.values,  final_preds_test, labels = cats)\n",
    "df_QM = pd.DataFrame(cm_QM, index = [_ for _ in cats],\n",
    "                  columns = [_ for _ in cats])\n",
    "plt.figure(figsize = (5,4))\n",
    "heat_plot=sns.heatmap(df_QM, annot=True)\n",
    "plt.show()"
   ]
  },
  {
   "cell_type": "markdown",
   "metadata": {},
   "source": [
    "## Use selected model to tag questions"
   ]
  },
  {
   "cell_type": "code",
   "execution_count": 343,
   "metadata": {},
   "outputs": [],
   "source": [
    "df=pd.read_csv('insightslack.csv',sep='\\t')\n",
    "data = df.copy()\n",
    "df_cols_keep = ['parent_user_id','reactions', 'replies', 'reply_count', 'text',\n",
    "       'thread_ts','ts','user','folder']\n",
    "data = data[df_cols_keep]\n",
    "del df"
   ]
  },
  {
   "cell_type": "code",
   "execution_count": 344,
   "metadata": {},
   "outputs": [],
   "source": [
    "data['ID'] = data.index"
   ]
  },
  {
   "cell_type": "code",
   "execution_count": 345,
   "metadata": {},
   "outputs": [],
   "source": [
    "data['is_train'] = data.ID.apply(lambda x: 1 if x in df_labeled.ID.values else 0)"
   ]
  },
  {
   "cell_type": "code",
   "execution_count": 346,
   "metadata": {},
   "outputs": [],
   "source": [
    "data.text.fillna('xxx', inplace=True)"
   ]
  },
  {
   "cell_type": "code",
   "execution_count": 348,
   "metadata": {},
   "outputs": [],
   "source": [
    "#all_texts = data['text']\n",
    "corpus_all_texts = np.array([text for text in data['text'].apply(parser).values])\n",
    "all_tfidf = tfidf_model.transform(corpus_all_texts)\n",
    "all_scores = final_model.predict_proba(all_tfidf)\n",
    "all_labels = ['Q' if _>=final_threshold else 'NQ' for _ in all_scores[:,1]]"
   ]
  },
  {
   "cell_type": "code",
   "execution_count": 526,
   "metadata": {},
   "outputs": [
    {
     "data": {
      "text/plain": [
       "['./~deliverable/logreg_QA.pkl']"
      ]
     },
     "execution_count": 526,
     "metadata": {},
     "output_type": "execute_result"
    }
   ],
   "source": [
    "#joblib.dump(model_LR_def, './~deliverable/logreg_QA.pkl')"
   ]
  },
  {
   "cell_type": "code",
   "execution_count": 442,
   "metadata": {},
   "outputs": [],
   "source": [
    "data['Q_NQ_label'] = all_labels\n",
    "# Substitute true values for training set items\n",
    "dx = pd.Series(data = df_labeled.Q_NQ_label.values, index=df_labeled.ID)\n",
    "dx.rename_axis(None)\n",
    "dx = dict(bx)\n",
    "data['n'] = data['ID'].map(bx)\n",
    "data.n.fillna(data.Q_NQ_label, inplace=True)\n",
    "del data['Q_NQ_label']\n",
    "data.rename(columns={'n': 'Q_NQ_label'}, inplace=True)"
   ]
  },
  {
   "cell_type": "code",
   "execution_count": 521,
   "metadata": {},
   "outputs": [
    {
     "data": {
      "text/plain": [
       "(90993, 13)"
      ]
     },
     "execution_count": 521,
     "metadata": {},
     "output_type": "execute_result"
    }
   ],
   "source": [
    "data.shape"
   ]
  },
  {
   "cell_type": "markdown",
   "metadata": {},
   "source": [
    "# DS/BS classifier"
   ]
  },
  {
   "cell_type": "code",
   "execution_count": 349,
   "metadata": {},
   "outputs": [
    {
     "data": {
      "text/plain": [
       "3279"
      ]
     },
     "execution_count": 349,
     "metadata": {},
     "output_type": "execute_result"
    }
   ],
   "source": [
    "DS_treads = listaQA+listaQ+listaDS\n",
    "DS = [_ for thread in DS_treads for _ in thread]\n",
    "len(DS)"
   ]
  },
  {
   "cell_type": "code",
   "execution_count": 357,
   "metadata": {},
   "outputs": [],
   "source": [
    "df_labeled['DS_BS_label'] = df_labeled['ID'].apply(lambda x: 1 if x in DS else 0)"
   ]
  },
  {
   "cell_type": "code",
   "execution_count": 359,
   "metadata": {},
   "outputs": [
    {
     "data": {
      "text/plain": [
       "(2766, 8)"
      ]
     },
     "execution_count": 359,
     "metadata": {},
     "output_type": "execute_result"
    }
   ],
   "source": [
    "df_labeled[df_labeled['DS_BS_label']==0].shape"
   ]
  },
  {
   "cell_type": "code",
   "execution_count": 360,
   "metadata": {},
   "outputs": [
    {
     "data": {
      "text/html": [
       "<div>\n",
       "<style>\n",
       "    .dataframe thead tr:only-child th {\n",
       "        text-align: right;\n",
       "    }\n",
       "\n",
       "    .dataframe thead th {\n",
       "        text-align: left;\n",
       "    }\n",
       "\n",
       "    .dataframe tbody tr th {\n",
       "        vertical-align: top;\n",
       "    }\n",
       "</style>\n",
       "<table border=\"1\" class=\"dataframe\">\n",
       "  <thead>\n",
       "    <tr style=\"text-align: right;\">\n",
       "      <th></th>\n",
       "      <th>ID</th>\n",
       "      <th>ts</th>\n",
       "      <th>user</th>\n",
       "      <th>text</th>\n",
       "      <th>tag</th>\n",
       "      <th>channel</th>\n",
       "      <th>Q_NQ_label</th>\n",
       "      <th>DS_BS_label</th>\n",
       "    </tr>\n",
       "  </thead>\n",
       "  <tbody>\n",
       "    <tr>\n",
       "      <th>0</th>\n",
       "      <td>45094</td>\n",
       "      <td>1.420829e+09</td>\n",
       "      <td>U03AY7TUK</td>\n",
       "      <td>&lt;@U03AY7TUK&gt; has joined the channel</td>\n",
       "      <td>bs</td>\n",
       "      <td>general</td>\n",
       "      <td>0</td>\n",
       "      <td>0</td>\n",
       "    </tr>\n",
       "    <tr>\n",
       "      <th>1</th>\n",
       "      <td>45095</td>\n",
       "      <td>1.420829e+09</td>\n",
       "      <td>U03AZQ4LE</td>\n",
       "      <td>&lt;@U03AZQ4LE&gt; has joined the channel</td>\n",
       "      <td>bs</td>\n",
       "      <td>general</td>\n",
       "      <td>0</td>\n",
       "      <td>0</td>\n",
       "    </tr>\n",
       "    <tr>\n",
       "      <th>2</th>\n",
       "      <td>45096</td>\n",
       "      <td>1.420829e+09</td>\n",
       "      <td>U03AY3FTZ</td>\n",
       "      <td>Welcome fellow Fellows!</td>\n",
       "      <td>bs</td>\n",
       "      <td>general</td>\n",
       "      <td>0</td>\n",
       "      <td>0</td>\n",
       "    </tr>\n",
       "    <tr>\n",
       "      <th>3</th>\n",
       "      <td>45097</td>\n",
       "      <td>1.420830e+09</td>\n",
       "      <td>U03AZQBLN</td>\n",
       "      <td>&lt;@U03AZQBLN&gt; has joined the channel</td>\n",
       "      <td>bs</td>\n",
       "      <td>general</td>\n",
       "      <td>0</td>\n",
       "      <td>0</td>\n",
       "    </tr>\n",
       "    <tr>\n",
       "      <th>4</th>\n",
       "      <td>45098</td>\n",
       "      <td>1.420830e+09</td>\n",
       "      <td>U03AY3FTZ</td>\n",
       "      <td>Can you invite others? I've invited everyone from our class, but it'd be great to have all Fellows on this same slack, don't you think?</td>\n",
       "      <td>bs</td>\n",
       "      <td>general</td>\n",
       "      <td>0</td>\n",
       "      <td>0</td>\n",
       "    </tr>\n",
       "  </tbody>\n",
       "</table>\n",
       "</div>"
      ],
      "text/plain": [
       "      ID            ts       user  \\\n",
       "0  45094  1.420829e+09  U03AY7TUK   \n",
       "1  45095  1.420829e+09  U03AZQ4LE   \n",
       "2  45096  1.420829e+09  U03AY3FTZ   \n",
       "3  45097  1.420830e+09  U03AZQBLN   \n",
       "4  45098  1.420830e+09  U03AY3FTZ   \n",
       "\n",
       "                                                                                                                                      text  \\\n",
       "0  <@U03AY7TUK> has joined the channel                                                                                                       \n",
       "1  <@U03AZQ4LE> has joined the channel                                                                                                       \n",
       "2  Welcome fellow Fellows!                                                                                                                   \n",
       "3  <@U03AZQBLN> has joined the channel                                                                                                       \n",
       "4  Can you invite others? I've invited everyone from our class, but it'd be great to have all Fellows on this same slack, don't you think?   \n",
       "\n",
       "  tag  channel  Q_NQ_label  DS_BS_label  \n",
       "0  bs  general  0           0            \n",
       "1  bs  general  0           0            \n",
       "2  bs  general  0           0            \n",
       "3  bs  general  0           0            \n",
       "4  bs  general  0           0            "
      ]
     },
     "execution_count": 360,
     "metadata": {},
     "output_type": "execute_result"
    }
   ],
   "source": [
    "df_labeled.head()"
   ]
  },
  {
   "cell_type": "code",
   "execution_count": 361,
   "metadata": {},
   "outputs": [],
   "source": [
    "cv_ds, test_ds = train_test_split(df_labeled, test_size=0.2, random_state=42342)\n",
    "X_cv_ds = cv_ds['text']\n",
    "y_cv_ds = cv_ds['DS_BS_label']\n",
    "X_test_ds= test_ds['text']\n",
    "y_test_ds = test_ds['DS_BS_label']"
   ]
  },
  {
   "cell_type": "code",
   "execution_count": 362,
   "metadata": {},
   "outputs": [],
   "source": [
    "def parser_ds(text_in): \n",
    "    \n",
    "    text = unicode( re_link(re_emoji(re_user(text_in))) , \"utf-8\")\n",
    "    # tokenize\n",
    "    \n",
    "    tokens = [word.lower() for sent in nltk.sent_tokenize(text) for word in nltk.word_tokenize(sent)]\n",
    "    \n",
    "    # filter stopwords and punctuation\n",
    "    tokens = [x for x in tokens if not x in stopwords]\n",
    "    tokens = [x for x in tokens if not x in string.punctuation]\n",
    "    tokens = [x for x in tokens if not x in [\"''\",\"``\"]]\n",
    "        \n",
    "    # stemming\n",
    "    #tokens = [stemmer.stem(x) for x in tokens]\n",
    "    #tokens = [nl_stemmer.stem(x) for x in tokens]\n",
    "    return ' '.join(tokens)"
   ]
  },
  {
   "cell_type": "code",
   "execution_count": 363,
   "metadata": {},
   "outputs": [
    {
     "name": "stdout",
     "output_type": "stream",
     "text": [
      "Size of vocabulary for titles: 7939 words.\n"
     ]
    }
   ],
   "source": [
    "# Build vocabulary\n",
    "tokenized_texts_ds = X_cv_ds.apply(parser_ds).apply(tokenize).values\n",
    "allwords_ds = np.concatenate(tokenized_texts_ds)\n",
    "vocabulary_ds = set(allwords_ds)\n",
    "print \"Size of vocabulary for titles:\", len(vocabulary_ds), 'words.'"
   ]
  },
  {
   "cell_type": "code",
   "execution_count": 364,
   "metadata": {},
   "outputs": [],
   "source": [
    "from collections import Counter\n",
    "word_count_ds = Counter(allwords_ds)\n",
    "word_count_dict_ds = dict(word_count_ds)\n",
    "#rare words\n",
    "rarewords_ds = [ k for k, v in word_count_dict.items() if v < 3 ]"
   ]
  },
  {
   "cell_type": "code",
   "execution_count": 365,
   "metadata": {},
   "outputs": [
    {
     "data": {
      "text/plain": [
       "4147"
      ]
     },
     "execution_count": 365,
     "metadata": {},
     "output_type": "execute_result"
    }
   ],
   "source": [
    "vocabulary_norare_ds = set([_ for _ in vocabulary_ds if _ not in rarewords_ds])\n",
    "len(vocabulary_norare_ds)"
   ]
  },
  {
   "cell_type": "code",
   "execution_count": 366,
   "metadata": {},
   "outputs": [],
   "source": [
    "tfidf_model_ds = TfidfVectorizer(tokenizer=tokenize, vocabulary=vocabulary_norare_ds)"
   ]
  },
  {
   "cell_type": "code",
   "execution_count": 384,
   "metadata": {},
   "outputs": [
    {
     "data": {
      "image/png": "[encoded data removed]",
      "text/plain": [
       "<matplotlib.figure.Figure at 0x11e26bcd0>"
      ]
     },
     "metadata": {},
     "output_type": "display_data"
    }
   ],
   "source": [
    "binning = np.linspace(0, 1, 100)\n",
    "clf_labels = ['RFC', 'linSVC',  'LR_l2','LR_l1']\n",
    "clf_colors =  ['b','g','r', 'c']\n",
    "models = [RandomForestClassifier(), svm.SVC(kernel='linear', probability=True), LogisticRegression(penalty = 'l2'),LogisticRegression(penalty = 'l1')]\n",
    "for i in range(len(models)):\n",
    "    roc, droc, auc_score, dauc_score, acc, dacc, rec, drec, pre, dpre, f1, df1= cv_scores_QA(X_cv_ds, y_cv_ds, \\\n",
    "                                                           TfidfVectorizer(tokenizer=tokenize, vocabulary=vocabulary_norare_ds),models[i], 4, binning)\n",
    "    plt.plot(binning, roc, color=clf_colors[i],\n",
    "         label=r'%s (AUC = %0.4f $\\pm$ %0.4f)' % (clf_labels[i],auc_score, dauc_score),\n",
    "         lw=2, alpha=.8)\n",
    "    plt.fill_between(binning,  np.maximum(roc - droc, 0),  np.minimum(roc + droc, 1), color='grey', alpha=.2)\n",
    "plt.xlim([-0.0, 1.0])\n",
    "plt.ylim([-0.0, 1.0])\n",
    "plt.xlabel('False Positive Rate')\n",
    "plt.ylabel('True Positive Rate')\n",
    "plt.title('ROC')\n",
    "plt.legend(loc=\"lower right\")\n",
    "plt.show()"
   ]
  },
  {
   "cell_type": "code",
   "execution_count": 385,
   "metadata": {},
   "outputs": [
    {
     "data": {
      "image/png": "[encoded data removed]",
      "text/plain": [
       "<matplotlib.figure.Figure at 0x120a9d150>"
      ]
     },
     "metadata": {},
     "output_type": "display_data"
    }
   ],
   "source": [
    "roc, droc, auc_score, dauc_score, acc, dacc, rec, drec, pre, dpre, f1, df1= cv_scores_QA(X_cv_ds, y_cv_ds, \\\n",
    "                                          TfidfVectorizer(tokenizer=tokenize, vocabulary=vocabulary_norare_ds), LogisticRegression(penalty = 'l2', C=1.), 4, binning)\n",
    "plt.plot(binning, f1, color='r',\n",
    "         label=r'LR_l2 ' ,\n",
    "         lw=2, alpha=.8)\n",
    "plt.fill_between(binning,  np.maximum(f1 - df1, 0),  np.minimum(f1 + df1, 1), color='grey', alpha=.2)\n",
    "plt.xlim([-0.05, 1.05])\n",
    "plt.ylim([-0.05, 1.05])\n",
    "plt.xlabel('Threshold')\n",
    "plt.ylabel('F1-score')\n",
    "plt.title('F1-score vs threshold')\n",
    "plt.legend(loc=\"upper right\")\n",
    "plt.show()"
   ]
  },
  {
   "cell_type": "code",
   "execution_count": 386,
   "metadata": {},
   "outputs": [
    {
     "name": "stdout",
     "output_type": "stream",
     "text": [
      "Final threshold:  0.5252525252525253\n",
      "Max:  0.8229971978037172\n"
     ]
    }
   ],
   "source": [
    "from operator import itemgetter\n",
    "#Get the threshold with the maximal F1 in the cv set\n",
    "final_threshold = max(zip(binning,f1),key=itemgetter(1))[0]\n",
    "print 'Final threshold: ', final_threshold\n",
    "print 'Max: ', max(f1)"
   ]
  },
  {
   "cell_type": "markdown",
   "metadata": {},
   "source": [
    "# Test"
   ]
  },
  {
   "cell_type": "code",
   "execution_count": 390,
   "metadata": {},
   "outputs": [],
   "source": [
    "final_threshold = 0.6\n",
    "final_model = LogisticRegression(penalty = 'l2',C=1.)\n",
    "corpus_cv_ds = np.array([text for text in X_cv_ds.apply(parser).values])\n",
    "corpus_test_ds = np.array([text for text in X_test_ds.apply(parser).values])\n",
    "tfidf_model_ds = TfidfVectorizer(tokenizer=tokenize, vocabulary=vocabulary_norare_ds)\n",
    "tfidf_model_ds.fit(corpus_cv_ds)\n",
    "tfidf_X_cv_ds = tfidf_model_ds.transform(corpus_cv_ds)\n",
    "tfidf_X_test_ds = tfidf_model_ds.transform(corpus_test_ds)\n",
    "final_model.fit(tfidf_X_cv_ds,y_cv_ds.values)\n",
    "#\n",
    "prob_train = final_model.predict_proba(tfidf_X_cv_ds)\n",
    "final_preds_train =  [1 if _>=final_threshold else 0 for _ in prob_train[:,1]]\n",
    "#\n",
    "prob_test = final_model.predict_proba(tfidf_X_test_ds)\n",
    "final_preds_test =  [1 if _>=final_threshold else 0 for _ in prob_test[:,1]]"
   ]
  },
  {
   "cell_type": "code",
   "execution_count": 391,
   "metadata": {},
   "outputs": [
    {
     "name": "stdout",
     "output_type": "stream",
     "text": [
      "Accuracy train/test: 0.8838490885968631 / 0.7940677966101695\n",
      "Precision train/test: 0.9082914572864321 / 0.815831987075929\n",
      "Recall train/test: 0.8682946357085669 / 0.7965299684542587\n",
      "F1 train/test: 0.8878428162095784 / 0.8060654429369514\n"
     ]
    }
   ],
   "source": [
    "print 'Accuracy train/test: %s / %s'  %(accuracy_score(y_cv_ds.values, final_preds_train),accuracy_score(y_test_ds.values, final_preds_test))\n",
    "print 'Precision train/test: %s / %s'  %(precision_score(y_cv_ds.values, final_preds_train),precision_score(y_test_ds.values, final_preds_test))\n",
    "print 'Recall train/test: %s / %s'  %(recall_score(y_cv_ds.values, final_preds_train),recall_score(y_test_ds.values, final_preds_test))\n",
    "print 'F1 train/test: %s / %s'  %(f1_score(y_cv_ds.values, final_preds_train),f1_score(y_test_ds.values, final_preds_test))"
   ]
  },
  {
   "cell_type": "code",
   "execution_count": 392,
   "metadata": {},
   "outputs": [
    {
     "name": "stderr",
     "output_type": "stream",
     "text": [
      "/anaconda/envs/dataweekends/lib/python2.7/site-packages/seaborn/matrix.py:143: DeprecationWarning: elementwise == comparison failed; this will raise an error in the future.\n",
      "  if xticklabels == []:\n",
      "/anaconda/envs/dataweekends/lib/python2.7/site-packages/seaborn/matrix.py:151: DeprecationWarning: elementwise == comparison failed; this will raise an error in the future.\n",
      "  if yticklabels == []:\n"
     ]
    },
    {
     "data": {
      "image/png": "[encoded data removed]",
      "text/plain": [
       "<matplotlib.figure.Figure at 0x11fe59cd0>"
      ]
     },
     "metadata": {},
     "output_type": "display_data"
    }
   ],
   "source": [
    "#Confusion matrix. Rows are true labels, column predicted\n",
    "cats = [1,0]\n",
    "cm_DS = confusion_matrix(y_test_ds.values,  final_preds_test, labels = cats)\n",
    "df_DS = pd.DataFrame(cm_DS, index = [_ for _ in cats],\n",
    "                  columns = [_ for _ in cats])\n",
    "plt.figure(figsize = (5,4))\n",
    "heat_plot=sns.heatmap(df_DS, annot=True)\n",
    "plt.show()"
   ]
  },
  {
   "cell_type": "markdown",
   "metadata": {},
   "source": [
    "## Predict DS score on dataset"
   ]
  },
  {
   "cell_type": "code",
   "execution_count": 394,
   "metadata": {},
   "outputs": [],
   "source": [
    "corpus_all_texts_ds = np.array([text for text in data['text'].apply(parser).values])\n",
    "all_tfidf_ds = tfidf_model_ds.transform(corpus_all_texts_ds)\n",
    "all_scores_ds = final_model.predict_proba(all_tfidf_ds)"
   ]
  },
  {
   "cell_type": "code",
   "execution_count": null,
   "metadata": {},
   "outputs": [],
   "source": []
  },
  {
   "cell_type": "code",
   "execution_count": 477,
   "metadata": {},
   "outputs": [],
   "source": [
    "data['DS_score'] = all_scores_ds[:,1]"
   ]
  },
  {
   "cell_type": "code",
   "execution_count": 478,
   "metadata": {},
   "outputs": [],
   "source": [
    "folderstokeep = [ 'bos-2018a', 'nlp', 'ds-idx-2018a', 'portland-alumni',  'controls_engineering', 'leads', 'devops', 'networkx', 'ds-ny-2017a',  'sv', 'pegasus-users', 'analytics-infra', 'linkedin-demo-group', 'sparknotes', 'ds-sv-2012b', 'bos-2017b', 'bos-2017c', 'cinch_demo', 'modena_demo', 'hd-bos-2016a', 'hd-bos-2016c', 'hd-bos-2016b', 'askflask', 'ghc17', 'bos-2017c-questions', '2016', 'hardest-ds-questions', 'hd-sv-17a-git',  'bos17c_project-ideas', 'python', 'de-ny-2016a', 'de-ny-2016b', 'de-ny-2016c', 'scala', 'harvardthcsph', 'redshift', 'user-engagement', 'dataframe-sql-dbas', 'seattle-alumni', 'de-ny-2015c', 'kdd2016', 'project_discussion', 'fb_analytics_2016a_sv',  'extronomers-ny', 'hd-bos-2017a',  'sv-2015a',  'webscraping', 'ds-idx-2016b', 'ds-idx-2016a', 'london-alumni', 'athenahealth-demo', 'interviews', 'insight_compass_demo', 'sf-alumni', 'rev-2018', 'customer-segmentation', 'dataengineering', 'ds-idx-2017a', 'ds-ny-2015c', 'docker_kubernetes',  'at_t_2016-ds-sv',  'ds-sv-2014a', 'ds-sv-2014b', 'ds-sv-2014c', 'workshops', 'de-sv-2016a', 'de-sv-2016b', 'de-sv-2016c', 'kfc_pod', '17a-cs-sp', 'gdpr', 'bos-tech-advisors', 'swim-sv', 'teamtiki', 'time-series-models', 'bhe-demo', 'ds-idx-2017b', 'ds-idx-2017c', 'msk-visit',  'ds-sv-2015b-trips', 'ds-sea-2018a', 'kpmg-demo-2015c', '2015c-teralytics-demo', 'san_diego',  'wayfair_on-site', 'ds-sv-2015c', 'ds-sv-2015b', 'ds-sv-2015a', 'slack_feature_test', 'insightnycfall2017', 'de-sv-2017a', 'ml-meetup-ca', 'elasticsearch', 'scalala', 'hubspot_demo',  '2015c-recombine-visit', 'insight_om1_demo',  'ds-sv-2012a', 'bos17b_callmemaybe', 'de-sv-2014b', 'de-sv-2014c', 'sql',  'product-management', 'cornerstone-visit', 'ghc-18', 'badminton',  'learning', 'spark-tutorial',  'bostoninsightalumni',  'ds-sv-2016a',  '2105c-viacom-visit', 'insightatnight', 'ds-sea-2017b',  'ds-idx-2015c', 'data_challenges', 'capital-one-on-site', 'la-alumni', 'twitch_demo_2016a', '2015c-bonobos-visit', 'bos2018',  'pymc_latent_dirichel', 'user-embedding', 'nyc-alumni', 'tensorflow', 'remote', 'pinterest_march1', 'statistical-learning', 'ds-ny-2016a', 'ds-sv-2017a',  'ds-ny-2014b',  'ds-sv-2016c', 'outdoor-sv', 'ml', 'bos17-mgh-demo', 'musicmagic', 'dogs', 'odsc2017', 'paul_iqt_ama', 'r', 'de-sv-2015a', 'deep_learning', 'de-sv-2015c', 'de-sv-2015b', 'deep-learning-group', 'seven_bridges_demo', 'nyc_dinners', 'ml-meetup-ny', 'ds-idx-2015b', 'fellow-tech-questions', 'ai', 'boston', 'recommendation-engine', 'social-science', 'general', 'deep-learning', 'ds-sv-2013a', 'de_issues', 'ds-sv-2013c', 'ds-sv-2013b', 'in-q-tel',  'dnanexus-demo', 'odsc-east2018', 'bos-2017-dicussion', 'yelp_2016a_sv', 'deprecated-de-ny', 'cvs-demo', 'boston-insighters', 'ds-sv-2015c-startups', 'startup-v-established', 'strata-sanjose-2016', 'ds-ny-2015b', '2015c-gartner-visit', 'ai-sv-2017c', 'pymetrics-visit', 'ai-sv-2017a',  'ds-ny-2015a', 'interview-questions', 'wayfair_callbacks', 'oscar-visit', 'data_challenges_ny15b', 'raleigh-durham-alumni', 'data_science_tools', 'dc-alumni', 'sql-results', 'minnesota-alumni', 'ds-ny-2016b', 'visualizations', 'hd-bos-2015b',  'east_bay_housing']\n",
    "data_1 = data[data['folder'].isin(folderstokeep)]\n",
    "#tagged questions\n",
    "data_1_Qs = data_1[data_1['Q_NQ_label']=='Q']['ID'].values"
   ]
  },
  {
   "cell_type": "markdown",
   "metadata": {},
   "source": [
    "# Extract threads with replies"
   ]
  },
  {
   "cell_type": "code",
   "execution_count": 479,
   "metadata": {},
   "outputs": [
    {
     "name": "stdout",
     "output_type": "stream",
     "text": [
      "Number of threads with reply:  390\n"
     ]
    }
   ],
   "source": [
    "data_1_Qs_withreplies = data_1[(data_1['ID'].isin(data_1_Qs) )&(data_1['replies'].notnull())&(data_1['is_train']==0)]['ID'].values\n",
    "print \"Number of threads with reply: \", len(data_1_Qs_withreplies)"
   ]
  },
  {
   "cell_type": "code",
   "execution_count": 480,
   "metadata": {},
   "outputs": [],
   "source": [
    "threads_with_replies = []\n",
    "for _ in data_1_Qs_withreplies:\n",
    "    thread = [_]\n",
    "    ts_thread = get_replies_ts(data_1[data_1['ID'] ==_]['replies'].values[0])\n",
    "    ids = [data_1[(np.abs(data_1['ts'] -time)<.01)]['ID'].values[0] for time in ts_thread]\n",
    "    threads_with_replies.append(thread+ids)"
   ]
  },
  {
   "cell_type": "code",
   "execution_count": 481,
   "metadata": {},
   "outputs": [],
   "source": [
    "import pickle\n",
    "with open(\"list_threads_w_replies.pickle\", \"wb\") as fp:   #Pickling\n",
    "    pickle.dump(threads_with_replies, fp)"
   ]
  },
  {
   "cell_type": "markdown",
   "metadata": {},
   "source": [
    "# Extract threads with no replies"
   ]
  },
  {
   "cell_type": "markdown",
   "metadata": {},
   "source": [
    "### Explore thread structure"
   ]
  },
  {
   "cell_type": "code",
   "execution_count": 486,
   "metadata": {},
   "outputs": [
    {
     "data": {
      "image/png": "[encoded data removed]",
      "text/plain": [
       "<matplotlib.figure.Figure at 0x12c324390>"
      ]
     },
     "metadata": {},
     "output_type": "display_data"
    }
   ],
   "source": [
    "lengthsQA = np.array([df_labeled[df_labeled.ID==_[-1]]['ts'].values[0] - df_labeled[df_labeled.ID==_[0]]['ts'].values[0] for _ in listaQA])\n",
    "lengthsDS = np.array([df_labeled[df_labeled.ID==_[-1]]['ts'].values[0] - df_labeled[df_labeled.ID==_[0]]['ts'].values[0] for _ in listaDS])\n",
    "\n",
    "fig, ax = plt.subplots(figsize=(6, 4))\n",
    "sns.distplot(pd.Series(np.log10((lengthsQA+10**-1)/3600/24.)),bins=20, kde = False,color='r')\n",
    "sns.distplot(pd.Series(np.log10((lengthsDS+10**-1)/3600/24.)),bins=20, kde = False,color='b')\n",
    "plt.ylabel(r'$Count$')\n",
    "plt.xlabel(r'$log_{10}(\\Delta)$')\n",
    "plt.xlim(-4, 1)\n",
    "plt.ylim(0, 60)\n",
    "plt.show()"
   ]
  },
  {
   "cell_type": "code",
   "execution_count": 487,
   "metadata": {},
   "outputs": [],
   "source": [
    "df_labeled['@ing']=df_labeled['text'].str.contains('<@U')\n",
    "listaQA_flat = [_ for x in listaQA for _ in x]"
   ]
  },
  {
   "cell_type": "code",
   "execution_count": 488,
   "metadata": {},
   "outputs": [],
   "source": [
    "df_labeled_QA_notatting = df_labeled[(df_labeled['ID'].isin(listaQA_flat))&(-df_labeled['@ing'])]\n",
    "listaQA_notatting = [list(set(_).intersection(set(df_labeled_QA_notatting['ID'].values))) for _ in listaQA]\n",
    "listaQA_notatting = [np.sort(_) for _ in listaQA_notatting if len(_)>1]\n",
    "lengthsQA_notatting = np.array([df_labeled[df_labeled.ID==_[-1]]['ts'].values[0] - df_labeled[df_labeled.ID==_[0]]['ts'].values[0] for _ in listaQA_notatting])"
   ]
  },
  {
   "cell_type": "code",
   "execution_count": 518,
   "metadata": {},
   "outputs": [
    {
     "data": {
      "image/png": "[encoded data removed]",
      "text/plain": [
       "<matplotlib.figure.Figure at 0x132875f50>"
      ]
     },
     "metadata": {},
     "output_type": "display_data"
    }
   ],
   "source": [
    "fig, ax = plt.subplots(figsize=(6, 4))\n",
    "sns.distplot(pd.Series(((lengthsQA)/3600.)),bins=200, kde = False,color='r', label='All')\n",
    "sns.distplot(pd.Series(((lengthsQA_notatting)/3600.)),bins=200, kde = False,color='b' , label='Not @ing')\n",
    "plt.ylabel(r'Count', fontsize=14)\n",
    "plt.xlabel(r'$\\Delta t$ in hours',fontsize=14)\n",
    "plt.xlim(0, 20)\n",
    "plt.ylim(0, 120)\n",
    "plt.legend()\n",
    "plt.savefig(\"./figs/threads_duration.pdf\", bbox_inches='tight')\n",
    "plt.show()"
   ]
  },
  {
   "cell_type": "code",
   "execution_count": 490,
   "metadata": {},
   "outputs": [
    {
     "name": "stdout",
     "output_type": "stream",
     "text": [
      "50 percentile w/ @, dt:  9697.0\n",
      "75 percentile w/ @, dt:  42110.0\n",
      "50 percentile w/o @, dt:  6021.0\n",
      "75 percentile w/o @, dt:  24550.75\n"
     ]
    }
   ],
   "source": [
    "print \"50 percentile w/ @, dt: \", np.percentile(lengthsQA, 50)\n",
    "print \"75 percentile w/ @, dt: \", np.percentile(lengthsQA, 75)\n",
    "print \"50 percentile w/o @, dt: \", np.percentile(lengthsQA_notatting, 50)\n",
    "print \"75 percentile w/o @, dt: \", np.percentile(lengthsQA_notatting, 75)"
   ]
  },
  {
   "cell_type": "markdown",
   "metadata": {},
   "source": [
    "### 2 hours cutoff"
   ]
  },
  {
   "cell_type": "code",
   "execution_count": 495,
   "metadata": {},
   "outputs": [
    {
     "name": "stdout",
     "output_type": "stream",
     "text": [
      "Number of threads without reply:  725\n"
     ]
    }
   ],
   "source": [
    "#Also impose a good DS score\n",
    "data_1_Qs_withoutreplies = data_1[(data_1['ID'].isin(data_1_Qs) )&(data_1['replies'].isnull())&(data_1['is_train']==0)&(data_1['DS_score']>0.85)]['ID'].values\n",
    "print \"Number of threads without reply: \", len(data_1_Qs_withoutreplies)"
   ]
  },
  {
   "cell_type": "code",
   "execution_count": 496,
   "metadata": {},
   "outputs": [],
   "source": [
    "threads_without_replies = []\n",
    "for _ in data_1_Qs_withoutreplies:\n",
    "    thread = [_]\n",
    "    time =  data_1[data_1['ID']==_]['ts'].values[0]\n",
    "    channel = data_1[data_1['ID']==_]['folder'].values[0]\n",
    "    ids = list(data_1[(data_1['folder']==channel)&(data_1['ts']-time>0)&(data_1['ts']-time<3600*2.0)&(data_1['DS_score']>0.1)]['ID'].values)\n",
    "    threads_without_replies.append(thread+ids)"
   ]
  },
  {
   "cell_type": "code",
   "execution_count": 497,
   "metadata": {},
   "outputs": [],
   "source": [
    "with open(\"list_threads_wo_replies.pickle\", \"wb\") as fp:   #Pickling\n",
    "    pickle.dump(threads_without_replies, fp)"
   ]
  },
  {
   "cell_type": "markdown",
   "metadata": {},
   "source": [
    "# Savings"
   ]
  },
  {
   "cell_type": "code",
   "execution_count": 485,
   "metadata": {},
   "outputs": [],
   "source": [
    "data.to_csv('insightslack_processed.csv', sep='\\t', encoding='utf-8')"
   ]
  }
 ],
 "metadata": {
  "kernelspec": {
   "display_name": "Python 2",
   "language": "python",
   "name": "python2"
  },
  "language_info": {
   "codemirror_mode": {
    "name": "ipython",
    "version": 2
   },
   "file_extension": ".py",
   "mimetype": "text/x-python",
   "name": "python",
   "nbconvert_exporter": "python",
   "pygments_lexer": "ipython2",
   "version": "2.7.13"
  }
 },
 "nbformat": 4,
 "nbformat_minor": 2
}
